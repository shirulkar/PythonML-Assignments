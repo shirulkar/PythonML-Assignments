{
 "cells": [
  {
   "cell_type": "markdown",
   "metadata": {},
   "source": [
    "# Assignment - 2"
   ]
  },
  {
   "cell_type": "markdown",
   "metadata": {},
   "source": [
    "## Task - 1"
   ]
  },
  {
   "cell_type": "markdown",
   "metadata": {},
   "source": [
    "#### 1.1 Write a Python Program to implement your own myreduce() function which works exactly like Python's built-in function reduce()"
   ]
  },
  {
   "cell_type": "code",
   "execution_count": 2,
   "metadata": {},
   "outputs": [],
   "source": [
    "def myReduce(func, seq, init=None):\n",
    "    # my own version of reduce\n",
    "    \n",
    "    #Check if appropriate parameters are passed\n",
    "    if isinstance(seq, (list, tuple)):\n",
    "        # Check if each item in the sequence is of the same type\n",
    "        argsOk = True\n",
    "        for itm in seq:\n",
    "            argsOk = argsOk and (type(seq[0]) == type(itm))\n",
    "        # Check if init argument is of the same type as the sequence items\n",
    "        if init is not None:\n",
    "            argsOk = argsOk and (type(seq[0]) == type(init))\n",
    "    if not argsOk:\n",
    "        retVal = \"Inappropriate arguments, cannot execute function!\"\n",
    "    else:\n",
    "        retVal = seq[0] if init is None else func(init, seq[0])\n",
    "        for i in range(1, len(seq)):\n",
    "            retVal = func(retVal, seq[i])\n",
    "    return retVal"
   ]
  },
  {
   "cell_type": "code",
   "execution_count": 3,
   "metadata": {},
   "outputs": [
    {
     "name": "stdout",
     "output_type": "stream",
     "text": [
      "Without init argument: 10\n",
      "\n",
      "With init argument: 510\n",
      "\n",
      "With wrong arguments: Inappropriate arguments, cannot execute function!\n",
      "\n"
     ]
    }
   ],
   "source": [
    "def doSum(x1, x2): return x1 + x2\n",
    "lst = [1,2,3,4]\n",
    "\n",
    "print('Without init argument: ',end='')\n",
    "print(myReduce(doSum,lst), end='\\n\\n')\n",
    "\n",
    "print('With init argument: ',end='')\n",
    "print(myReduce(doSum,lst,500), end='\\n\\n')\n",
    "\n",
    "print('With wrong arguments: ',end='')\n",
    "print(myReduce(doSum,lst,'Sanjay'), end='\\n\\n')"
   ]
  },
  {
   "cell_type": "markdown",
   "metadata": {},
   "source": [
    "#### 1.2 Write a Python program to implement your own myfilter() function which works exactly like Python's built-in function filter()"
   ]
  },
  {
   "cell_type": "code",
   "execution_count": 4,
   "metadata": {},
   "outputs": [],
   "source": [
    "def myFilter(func, seq):\n",
    "    # my own version of filter\n",
    "    \n",
    "    #Check if appropriate parameters are passed\n",
    "    if isinstance(seq, (list, tuple)):\n",
    "        # Check if each item in the sequence is of the same type only if function is passed\n",
    "        argsOk = True\n",
    "        if func is not None:\n",
    "            for itm in seq:\n",
    "                argsOk = argsOk and (type(seq[0]) == type(itm))\n",
    "    if not argsOk:\n",
    "        retVal = seq\n",
    "    else:\n",
    "        retVal = []\n",
    "        if func is None:\n",
    "            for itm in seq:\n",
    "                if itm:\n",
    "                    retVal.append(itm)\n",
    "        else:\n",
    "            for itm in seq:\n",
    "                if func(itm):\n",
    "                    retVal.append(itm)\n",
    "    return retVal"
   ]
  },
  {
   "cell_type": "code",
   "execution_count": 5,
   "metadata": {},
   "outputs": [
    {
     "name": "stdout",
     "output_type": "stream",
     "text": [
      "No function passed: [1, 'a', True, '0']\n",
      "Function passed to filter Vowels: ['a', 'e', 'i', 'o']\n",
      "Type mismatched items in list: ['66', 90, 68, 59, 76, 60, 88, 74, 81, 65]\n",
      "Type matched items in list: [90, 88, 81]\n"
     ]
    }
   ],
   "source": [
    "testList = [1, 'a', 0, False, True, '0']\n",
    "filteredList = myFilter(None, testList)\n",
    "print('No function passed: ',end='')\n",
    "print(filteredList)\n",
    "    \n",
    "testList = ['a', 'b', 'd', 'e', 'i', 'j', 'o']\n",
    "def filterVowels(alphabet):\n",
    "    vowels = ['a', 'e', 'i', 'o', 'u']\n",
    "    return alphabet in vowels\n",
    "filteredList = myFilter(filterVowels, testList)\n",
    "print('Function passed to filter Vowels: ',end='')\n",
    "print(filteredList)\n",
    "    \n",
    "testList = ['66', 90, 68, 59, 76, 60, 88, 74, 81, 65]\n",
    "def filterAGrade(score):\n",
    "    return score > 80\n",
    "filteredList = list(myFilter(filterAGrade, testList))\n",
    "print('Type mismatched items in list: ',end='')\n",
    "print(filteredList)\n",
    "testList = [66, 90, 68, 59, 76, 60, 88, 74, 81, 65]\n",
    "filteredList = list(myFilter(filterAGrade, testList))\n",
    "print('Type matched items in list: ',end='')\n",
    "print(filteredList)"
   ]
  },
  {
   "cell_type": "markdown",
   "metadata": {},
   "source": [
    "#### 2. Write List comprehensions to produce the following Lists\n",
    "['A', 'C', 'A', 'D', 'G', 'I', ’L’, ‘ D’]\n",
    "\n",
    "['x', 'xx', 'xxx', 'xxxx', 'y', 'yy', 'yyy', 'yyyy', 'z', 'zz', 'zzz', 'zzzz']\n",
    "\n",
    "['x', 'y', 'z', 'xx', 'yy', 'zz', 'xx', 'yy', 'zz', 'xxxx', 'yyyy', 'zzzz']\n",
    "\n",
    "[[2], [3], [4], [3], [4], [5], [4], [5], [6]]\n",
    "\n",
    "[[2, 3, 4, 5], [3, 4, 5, 6], [4, 5, 6, 7], [5, 6, 7, 8]]\n",
    "\n",
    "[(1, 1), (2, 1), (3, 1), (1, 2), (2, 2), (3, 2), (1, 3), (2, 3), (3, 3)]"
   ]
  },
  {
   "cell_type": "code",
   "execution_count": 1,
   "metadata": {},
   "outputs": [
    {
     "name": "stdout",
     "output_type": "stream",
     "text": [
      "['A', 'C', 'A', 'D', 'G', 'I', 'L', 'D']\n",
      "['x', 'xx', 'xxx', 'xxxx', 'y', 'yy', 'yyy', 'yyyy', 'z', 'zz', 'zzz', 'zzzz']\n",
      "['x', 'y', 'z', 'xx', 'yy', 'zz', 'xxx', 'yyy', 'zzz', 'xxxx', 'yyyy', 'zzzz']\n",
      "[[2], [3], [4], [3], [4], [5], [4], [5], [6]]\n",
      "[[2, 3, 4, 5], [3, 4, 5, 6], [4, 5, 6, 7], [5, 6, 7, 8]]\n",
      "[(1, 1), (2, 1), (3, 1), (1, 2), (2, 2), (3, 2), (1, 3), (2, 3), (3, 3)]\n"
     ]
    }
   ],
   "source": [
    "alphabets = ['x', 'y', 'z']\n",
    "digits = [1, 2, 3, 4, 5, 6, 7, 8]\n",
    "\n",
    "comp_list = [ letter for letter in 'ACADGILD' ]\n",
    "print( comp_list)\n",
    "\n",
    "comp_list = [letter*x for letter in alphabets for x in digits[0:4]]\n",
    "print(comp_list)\n",
    "\n",
    "comp_list = [ letter*x for x in digits[0:4] for letter in alphabets]\n",
    "print(comp_list)\n",
    "\n",
    "comp_list = [ [digit] for x in digits[:3] for digit in digits[x:x+3]]\n",
    "print(comp_list)\n",
    "\n",
    "comp_list = [ digits[x:x+4] for x in [1, 2, 3, 4] ]\n",
    "print(comp_list)\n",
    "\n",
    "comp_list = [ (y, x) for x in digits[:3] for y in digits[:3] ]\n",
    "print(comp_list)"
   ]
  },
  {
   "cell_type": "markdown",
   "metadata": {},
   "source": [
    "#### 3. Implement a function longestWord() that takes a list of words and returns the longest one."
   ]
  },
  {
   "cell_type": "code",
   "execution_count": 2,
   "metadata": {},
   "outputs": [
    {
     "name": "stdout",
     "output_type": "stream",
     "text": [
      "The longest word is: puzzled\n"
     ]
    }
   ],
   "source": [
    "import functools\n",
    "def longestWord(word_list):\n",
    "    return functools.reduce(lambda a,b : a if len(a) > len(b) else b, word_list)\n",
    "\n",
    "list_of_words = ['reduce', 'compare', 'ray', 'puzzled', 'tire']\n",
    "print('The longest word is: ' + longestWord(list_of_words))"
   ]
  },
  {
   "cell_type": "markdown",
   "metadata": {},
   "source": [
    "## Task - 2"
   ]
  },
  {
   "cell_type": "markdown",
   "metadata": {},
   "source": [
    "#### 1.1 Write a Python Program(with class concepts) to find the area of the triangle using the below formula.\n",
    "area = (s*(s-a)*(s-b)*(s-c)) ** 0.5\n",
    "\n",
    "Function to take the length of the sides of triangle from user should be defined in the parent\n",
    "class and function to calculate the area should be defined in subclass."
   ]
  },
  {
   "attachments": {
    "image.png": {
     "image/png": "[encoded data removed]"
    }
   },
   "cell_type": "markdown",
   "metadata": {},
   "source": [
    "![image.png](attachment:image.png)"
   ]
  },
  {
   "cell_type": "code",
   "execution_count": 1,
   "metadata": {},
   "outputs": [
    {
     "name": "stdout",
     "output_type": "stream",
     "text": [
      "Enter side 1: 5\n",
      "Enter side 2: 6\n",
      "Enter side 3: 7\n",
      "Area of triangle is: 14.696938456699069\n"
     ]
    }
   ],
   "source": [
    "class Shape():\n",
    "    def __init__(self, no_of_sides):\n",
    "        self.no_of_sides = no_of_sides\n",
    "        self.side_measures = [0 for i in range(no_of_sides)]\n",
    "        \n",
    "    def get_sides(self):\n",
    "        for i in range(self.no_of_sides):\n",
    "            self.side_measures[i] = int(input(f'Enter side {i+1}: '))\n",
    "        \n",
    "\n",
    "class Triangle(Shape):\n",
    "    def __init__(self):\n",
    "        Shape.__init__(self, 3)\n",
    "        \n",
    "    def calculate_s(self):\n",
    "        self.side_a, self.side_b, self.side_c = self.side_measures\n",
    "        return ((self.side_a + self.side_b + self.side_c) / 2)\n",
    "        \n",
    "    def calculate_area(self):\n",
    "        s = self.calculate_s()\n",
    "        return (s * (s-self.side_a) * (s-self.side_b) * (s-self.side_c)) ** 0.5\n",
    "    \n",
    "triangle1 = Triangle()\n",
    "triangle1.get_sides()\n",
    "print(f'Area of triangle is: {triangle1.calculate_area()}')"
   ]
  },
  {
   "cell_type": "markdown",
   "metadata": {},
   "source": [
    "#### 1.2 Write a function filter_long_words() that takes a list of words and an integer n and returns the list of words that are longer than n."
   ]
  },
  {
   "cell_type": "code",
   "execution_count": 3,
   "metadata": {},
   "outputs": [
    {
     "name": "stdout",
     "output_type": "stream",
     "text": [
      "The list of filtered words: ['compare', 'puzzled']\n"
     ]
    }
   ],
   "source": [
    "def filter_long_words(word_list, n):\n",
    "    return filter(lambda a : True if len(a) > n else False, word_list)\n",
    "\n",
    "list_of_words = ['reduce', 'compare', 'ray', 'puzzled', 'tire']\n",
    "print('The list of filtered words:', end=\" \")\n",
    "print(list(filter_long_words(list_of_words, 6)))"
   ]
  },
  {
   "cell_type": "markdown",
   "metadata": {},
   "source": [
    "#### 2.1 Write a Python program using function concept that maps list of words into a list of integers representing the lengths of the corresponding words .\n",
    "\n",
    "Hint: If a list [ ab,cde,erty] is passed on to the python function output should come as [2,3,4]. Here 2,3 and 4 are the lengths of the words in the list."
   ]
  },
  {
   "cell_type": "code",
   "execution_count": 5,
   "metadata": {},
   "outputs": [
    {
     "name": "stdout",
     "output_type": "stream",
     "text": [
      "Word length list: [6, 7, 3, 7, 4]\n"
     ]
    }
   ],
   "source": [
    "def map_word_len(word_list):\n",
    "    return list(map(lambda a : len(a), word_list))\n",
    "\n",
    "list_of_words = ['reduce', 'compare', 'ray', 'puzzled', 'tire']\n",
    "print('Word length list:', end=' ')\n",
    "print(map_word_len(list_of_words))"
   ]
  },
  {
   "cell_type": "markdown",
   "metadata": {},
   "source": [
    "#### 2.2 Write a Python function which takes a character (i.e. a string of length 1) and returns True if it is a vowel, False otherwise."
   ]
  },
  {
   "cell_type": "code",
   "execution_count": 6,
   "metadata": {},
   "outputs": [
    {
     "name": "stdout",
     "output_type": "stream",
     "text": [
      "Is 'a' vowel?: True\n",
      "Is 'b' vowel?: False\n"
     ]
    }
   ],
   "source": [
    "def is_vowels(alphabet):\n",
    "    vowels = ['a', 'e', 'i', 'o', 'u']\n",
    "    return alphabet.lower() in vowels\n",
    "\n",
    "print(\"Is 'a' vowel?: \", end='')\n",
    "print(is_vowels('a'))\n",
    "print(\"Is 'b' vowel?: \", end='')\n",
    "print(is_vowels('b'))"
   ]
  },
  {
   "cell_type": "code",
   "execution_count": null,
   "metadata": {},
   "outputs": [],
   "source": []
  }
 ],
 "metadata": {
  "kernelspec": {
   "display_name": "Python 3",
   "language": "python",
   "name": "python3"
  },
  "language_info": {
   "codemirror_mode": {
    "name": "ipython",
    "version": 3
   },
   "file_extension": ".py",
   "mimetype": "text/x-python",
   "name": "python",
   "nbconvert_exporter": "python",
   "pygments_lexer": "ipython3",
   "version": "3.7.4"
  }
 },
 "nbformat": 4,
 "nbformat_minor": 2
}
