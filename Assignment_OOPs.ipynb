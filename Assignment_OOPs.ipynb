{
 "cells": [
  {
   "cell_type": "markdown",
   "metadata": {},
   "source": [
    "# OOPS Assignment"
   ]
  },
  {
   "cell_type": "markdown",
   "metadata": {},
   "source": [
    "## Task - 1"
   ]
  },
  {
   "cell_type": "markdown",
   "metadata": {},
   "source": [
    "#### 1. Write Class 'a', 'b' and 'c'. Class 'a' and 'b' shoul dhave method with the same name. 'c' Class should be inherited from Class 'a' and 'b'. Instanciate Class 'c' and call the function of Class 'a' and Class 'b'."
   ]
  },
  {
   "cell_type": "code",
   "execution_count": 1,
   "metadata": {},
   "outputs": [
    {
     "name": "stdout",
     "output_type": "stream",
     "text": [
      "'test' method in Class a\n",
      "'test' method in Class a\n"
     ]
    }
   ],
   "source": [
    "class a():\n",
    "    def test(self):\n",
    "        print(\"'test' method in Class a\")\n",
    "\n",
    "class b():\n",
    "    def test(self):\n",
    "        print(\"'test' method in Class a\")\n",
    "        \n",
    "class c(a, b):\n",
    "    def test(self):\n",
    "        a.test(self)\n",
    "        b.test(self)\n",
    "    \n",
    "c1 = c()\n",
    "c1.test()"
   ]
  }
 ],
 "metadata": {
  "kernelspec": {
   "display_name": "Python 3",
   "language": "python",
   "name": "python3"
  },
  "language_info": {
   "codemirror_mode": {
    "name": "ipython",
    "version": 3
   },
   "file_extension": ".py",
   "mimetype": "text/x-python",
   "name": "python",
   "nbconvert_exporter": "python",
   "pygments_lexer": "ipython3",
   "version": "3.7.4"
  }
 },
 "nbformat": 4,
 "nbformat_minor": 2
}
